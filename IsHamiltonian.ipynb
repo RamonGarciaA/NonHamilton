{
 "cells": [
  {
   "cell_type": "code",
   "execution_count": 1,
   "id": "19a88ae3",
   "metadata": {},
   "outputs": [],
   "source": [
    "###Code that, given a binary matroid finds if it has a hamilton cycle.\n",
    "\n",
    "import numpy as np\n",
    "import itertools\n"
   ]
  },
  {
   "cell_type": "code",
   "execution_count": 2,
   "id": "f017ed97",
   "metadata": {},
   "outputs": [],
   "source": [
    "## n is the dimension as in F^n_2\n",
    "## m is the size of the matroid\n",
    "## k is the length of the cycle we are looking for\n",
    "\n",
    "\n",
    "def cyclefinder(A, n, m, k):\n",
    "    ###This code finds all the 0,1 vectors of length M\n",
    "    lst = list(itertools.product(np.array([0, 1],dtype=int), repeat=m))\n",
    "    ###this code finds the nullspace\n",
    "    lst2=[]\n",
    "    #print(\"Nullspace: \")\n",
    "    for y in lst:\n",
    "        C=np.dot(y,A)\n",
    "        for x in range(len(C)):\n",
    "            C[x]=C[x]%2\n",
    "        a=C.sum()\n",
    "        if(a==0):\n",
    "            #print(y)\n",
    "            lst2.append(y)\n",
    "    ###This code finds the cycles of length n+1\n",
    "    lst3=[]\n",
    "    #print(\"Cycles of length \", k,\":\")\n",
    "    for y in lst2:\n",
    "        z=np.array(y,dtype=int)\n",
    "        a=z.sum()\n",
    "        if(a==(k)):\n",
    "            lst3.append(z)\n",
    "            #print(z)\n",
    "\n",
    "    ###This code finds the smaller cycles inside the cycles of length n+1\n",
    "    isHamiltonian=False\n",
    "    for y in lst3:\n",
    "        lst4=[]\n",
    "        #print(\"Possible first vector:\")\n",
    "        #print(y)\n",
    "        #print(\"Nullspace vectors it contains:\")\n",
    "        for w in lst2:\n",
    "            aux=0\n",
    "            for k in range(len(y)):\n",
    "                if(w[k]>y[k]):\n",
    "                    aux=1\n",
    "            if(aux==0):\n",
    "                lst4.append(w)\n",
    "        #print(lst4)\n",
    "        if(len(lst4)==2):\n",
    "            isHamiltonian=True\n",
    "    if(isHamiltonian==True):\n",
    "        print(\"Hamiltonian: Yes\")\n",
    "    else:\n",
    "        print(\"Hamiltonian: No\")\n",
    "            "
   ]
  },
  {
   "cell_type": "code",
   "execution_count": 3,
   "id": "7115da1d",
   "metadata": {},
   "outputs": [
    {
     "name": "stdout",
     "output_type": "stream",
     "text": [
      "[[1 1 0]\n",
      " [1 0 1]\n",
      " [1 1 1]]\n"
     ]
    }
   ],
   "source": [
    "## I_1 x C_3\n",
    "## Rank:  3\n",
    "## Cycle we are looking for: 4 \n",
    "## dimension: 3\n",
    "M1=[[1]]\n",
    "M2=[[1,0], [0,1], [1,1]]\n",
    "\n",
    "M3=[]\n",
    "for y in M1:\n",
    "    for z in M2:\n",
    "        M3.append(np.concatenate((y,z)))\n",
    "M4=np.array(M3)\n",
    "print(M4)\n"
   ]
  },
  {
   "cell_type": "code",
   "execution_count": 4,
   "id": "1bbb8f2f",
   "metadata": {},
   "outputs": [
    {
     "name": "stdout",
     "output_type": "stream",
     "text": [
      "I_1 x C_3\n",
      "Hamiltonian: No\n"
     ]
    }
   ],
   "source": [
    "print(\"I_1 x C_3\")\n",
    "cyclefinder(M4,3,3,4)"
   ]
  },
  {
   "cell_type": "code",
   "execution_count": 5,
   "id": "bf853241",
   "metadata": {},
   "outputs": [],
   "source": [
    "## I_3 x C_3\n",
    "## Rank:  5\n",
    "## Cycle we are looking for: 6 \n",
    "\n",
    "\n",
    "M1=[[1,0,0],[0,1,0],[0,0,1]]\n",
    "M2=[[1,0], [0,1], [1,1]]\n",
    "\n",
    "M3=[]\n",
    "for y in M1:\n",
    "    for z in M2:\n",
    "        M3.append(np.concatenate((y,z)))\n",
    "M4=np.array(M3)\n",
    "#print(M4)\n"
   ]
  },
  {
   "cell_type": "code",
   "execution_count": 6,
   "id": "35b2ff56",
   "metadata": {},
   "outputs": [
    {
     "name": "stdout",
     "output_type": "stream",
     "text": [
      "I_3 x C_3\n",
      "Hamiltonian: Yes\n"
     ]
    }
   ],
   "source": [
    "print(\"I_3 x C_3\")\n",
    "cyclefinder(M4,5,9,6)"
   ]
  },
  {
   "cell_type": "code",
   "execution_count": 7,
   "id": "b5ae74f2",
   "metadata": {},
   "outputs": [],
   "source": [
    "## I_5 x C_3\n",
    "## Rank \n",
    "M1=[[1,0,0,0,0],[0,1,0,0,0],[0,0,1,0,0],[0,0,0,1,0],[0,0,0,0,1]]\n",
    "M2=[[1,0], [0,1], [1,1]]\n",
    "\n",
    "M3=[]\n",
    "for y in M1:\n",
    "    for z in M2:\n",
    "        M3.append(np.concatenate((y,z)))\n",
    "M4=np.array(M3)\n",
    "#print(M4)\n"
   ]
  },
  {
   "cell_type": "code",
   "execution_count": 8,
   "id": "32a78062",
   "metadata": {},
   "outputs": [
    {
     "name": "stdout",
     "output_type": "stream",
     "text": [
      "I_5 x C_3\n",
      "Hamiltonian: No\n"
     ]
    }
   ],
   "source": [
    "print(\"I_5 x C_3\")\n",
    "cyclefinder(M4,7,15,8)"
   ]
  },
  {
   "cell_type": "code",
   "execution_count": 11,
   "id": "30ee91d7",
   "metadata": {},
   "outputs": [
    {
     "name": "stdout",
     "output_type": "stream",
     "text": [
      "[[1 0 0 0 0 0 0 1 0]\n",
      " [1 0 0 0 0 0 0 0 1]\n",
      " [1 0 0 0 0 0 0 1 1]\n",
      " [0 1 0 0 0 0 0 1 0]\n",
      " [0 1 0 0 0 0 0 0 1]\n",
      " [0 1 0 0 0 0 0 1 1]\n",
      " [0 0 1 0 0 0 0 1 0]\n",
      " [0 0 1 0 0 0 0 0 1]\n",
      " [0 0 1 0 0 0 0 1 1]\n",
      " [0 0 0 1 0 0 0 1 0]\n",
      " [0 0 0 1 0 0 0 0 1]\n",
      " [0 0 0 1 0 0 0 1 1]\n",
      " [0 0 0 0 1 0 0 1 0]\n",
      " [0 0 0 0 1 0 0 0 1]\n",
      " [0 0 0 0 1 0 0 1 1]\n",
      " [0 0 0 0 0 1 0 1 0]\n",
      " [0 0 0 0 0 1 0 0 1]\n",
      " [0 0 0 0 0 1 0 1 1]\n",
      " [0 0 0 0 0 0 1 1 0]\n",
      " [0 0 0 0 0 0 1 0 1]\n",
      " [0 0 0 0 0 0 1 1 1]]\n"
     ]
    }
   ],
   "source": [
    "## I_7 x C_3\n",
    "## Rank \n",
    "M1=[[1,0,0,0,0,0,0],[0,1,0,0,0,0,0],[0,0,1,0,0,0,0],[0,0,0,1,0,0,0],[0,0,0,0,1,0,0],[0,0,0,0,0,1,0],[0,0,0,0,0,0,1]]\n",
    "M2=[[1,0], [0,1], [1,1]]\n",
    "\n",
    "M3=[]\n",
    "for y in M1:\n",
    "    for z in M2:\n",
    "        M3.append(np.concatenate((y,z)))\n",
    "M4=np.array(M3)\n",
    "print(M4)\n"
   ]
  },
  {
   "cell_type": "code",
   "execution_count": 13,
   "id": "106c4342",
   "metadata": {},
   "outputs": [
    {
     "name": "stdout",
     "output_type": "stream",
     "text": [
      "Hamiltonian: No\n"
     ]
    }
   ],
   "source": [
    "cyclefinder(M4,9,21,10)"
   ]
  },
  {
   "cell_type": "code",
   "execution_count": 9,
   "id": "3a3bf6e1",
   "metadata": {},
   "outputs": [
    {
     "name": "stdout",
     "output_type": "stream",
     "text": [
      "[[1 0 0]\n",
      " [1 1 0]\n",
      " [1 0 1]\n",
      " [1 1 1]]\n"
     ]
    }
   ],
   "source": [
    "## I_1 x C_4'\n",
    "##Rank \n",
    "M1=[[1]]\n",
    "M2=[[0,0],[1,0], [0,1],[1,1]]\n",
    "\n",
    "\n",
    "###This code finds the product M1 x M2\n",
    "M3=[]\n",
    "for y in M1:\n",
    "    for z in M2:\n",
    "        M3.append(np.concatenate((y,z)))\n",
    "M4=np.array(M3)\n",
    "print(M4)"
   ]
  },
  {
   "cell_type": "code",
   "execution_count": 10,
   "id": "b36652a6",
   "metadata": {},
   "outputs": [
    {
     "name": "stdout",
     "output_type": "stream",
     "text": [
      "Hamiltonian: Yes\n"
     ]
    }
   ],
   "source": [
    "cyclefinder(M4, 3, 4, 4)"
   ]
  },
  {
   "cell_type": "code",
   "execution_count": 16,
   "id": "85c50bcd",
   "metadata": {},
   "outputs": [
    {
     "name": "stdout",
     "output_type": "stream",
     "text": [
      "[[1 0 0 1 0 0 0]\n",
      " [1 0 0 0 1 0 0]\n",
      " [1 0 0 0 0 1 0]\n",
      " [1 0 0 1 1 1 1]\n",
      " [0 1 0 1 0 0 0]\n",
      " [0 1 0 0 1 0 0]\n",
      " [0 1 0 0 0 1 0]\n",
      " [0 1 0 1 1 1 1]\n",
      " [0 0 1 1 0 0 0]\n",
      " [0 0 1 0 1 0 0]\n",
      " [0 0 1 0 0 1 0]\n",
      " [0 0 1 1 1 1 1]]\n"
     ]
    }
   ],
   "source": [
    "## I_3 x C_5\n",
    "\n",
    "M1=[[1,0,0],[0,1,0],[0,0,1]]\n",
    "M2=[[1,0,0,0],[0,1,0,0], [0,0,1,0],[1,1,1,1]]\n",
    "\n",
    "\n",
    "###This code finds the product M1 x M2\n",
    "M3=[]\n",
    "for y in M1:\n",
    "    for z in M2:\n",
    "        M3.append(np.concatenate((y,z)))\n",
    "M4=np.array(M3)\n",
    "print(M4)"
   ]
  },
  {
   "cell_type": "code",
   "execution_count": 17,
   "id": "941bb2d2",
   "metadata": {},
   "outputs": [
    {
     "name": "stdout",
     "output_type": "stream",
     "text": [
      "Hamiltonian: No\n"
     ]
    }
   ],
   "source": [
    "cyclefinder(M4, 7, 12, 8)"
   ]
  },
  {
   "cell_type": "code",
   "execution_count": null,
   "id": "85bb8dbd",
   "metadata": {},
   "outputs": [],
   "source": []
  }
 ],
 "metadata": {
  "kernelspec": {
   "display_name": "Python 3 (ipykernel)",
   "language": "python",
   "name": "python3"
  },
  "language_info": {
   "codemirror_mode": {
    "name": "ipython",
    "version": 3
   },
   "file_extension": ".py",
   "mimetype": "text/x-python",
   "name": "python",
   "nbconvert_exporter": "python",
   "pygments_lexer": "ipython3",
   "version": "3.11.3"
  }
 },
 "nbformat": 4,
 "nbformat_minor": 5
}
