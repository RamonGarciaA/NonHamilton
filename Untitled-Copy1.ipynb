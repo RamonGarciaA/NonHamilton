{
 "cells": [
  {
   "cell_type": "code",
   "execution_count": 13,
   "id": "be583df4",
   "metadata": {},
   "outputs": [
    {
     "name": "stdout",
     "output_type": "stream",
     "text": [
      "Requirement already satisfied: networkx in c:\\users\\ramon\\anaconda3\\lib\\site-packages (2.8.4)\n",
      "Note: you may need to restart the kernel to use updated packages.\n"
     ]
    }
   ],
   "source": [
    "pip install networkx"
   ]
  },
  {
   "cell_type": "code",
   "execution_count": 1,
   "id": "07bffd4e",
   "metadata": {},
   "outputs": [],
   "source": [
    "from numpy import linalg as LA\n",
    "\n",
    "import numpy\n",
    "###I dont understand some piece of this is code, this was takn from multiple source and put together"
   ]
  },
  {
   "cell_type": "code",
   "execution_count": 2,
   "id": "3a7e08b5",
   "metadata": {},
   "outputs": [
    {
     "name": "stdout",
     "output_type": "stream",
     "text": [
      "[-2.00000000e+00+0.00000000e+00j  2.00000000e+00+0.00000000e+00j\n",
      " -1.72210111e-33+3.25817663e-25j -1.72210111e-33-3.25817663e-25j]\n"
     ]
    }
   ],
   "source": [
    "##This is just to test if we can calculate eigenvalues\n",
    "matrix=[[0,1,0,1],[1,0,1,0],[0,1,0,1],[1,0,1,0]]\n",
    "\n",
    "eigenvalues, eigenvectors = LA.eig(matrix)\n",
    "print(eigenvalues)"
   ]
  },
  {
   "cell_type": "code",
   "execution_count": 3,
   "id": "f80af03a",
   "metadata": {},
   "outputs": [],
   "source": [
    "##This code is looking for the hamilton cycles\n",
    "\n",
    "class Graph(): \n",
    "    def __init__(self, vertices): \n",
    "        self.graph = [[0 for column in range(vertices)]\n",
    "                            for row in range(vertices)] \n",
    "        self.V = vertices \n",
    "\n",
    "    ''' Check if this vertex is an adjacent vertex \n",
    "        of the previously added vertex and is not \n",
    "        included in the path earlier '''\n",
    "    def isSafe(self, v, pos, path): \n",
    "        # Check if current vertex and last vertex \n",
    "        # in path are adjacent \n",
    "        if self.graph[ path[pos-1] ][v] == 0: \n",
    "            return False\n",
    "\n",
    "        # Check if current vertex not already in path \n",
    "        for vertex in path: \n",
    "            if vertex == v: \n",
    "                return False\n",
    "\n",
    "        return True\n",
    "\n",
    "    # A recursive utility function to solve \n",
    "    # hamiltonian cycle problem \n",
    "    def hamCycleUtil(self, path, pos): \n",
    "\n",
    "        # base case: if all vertices are \n",
    "        # included in the path \n",
    "        if pos == self.V: \n",
    "            # Last vertex must be adjacent to the \n",
    "            # first vertex in path to make a cycle \n",
    "            if self.graph[ path[pos-1] ][ path[0] ] == 1: \n",
    "                return True\n",
    "            else: \n",
    "                return False\n",
    "\n",
    "        # Try different vertices as a next candidate \n",
    "        # in Hamiltonian Cycle. We don't try for 0 as \n",
    "        # we included 0 as starting point in hamCycle() \n",
    "        for v in range(1,self.V): \n",
    "\n",
    "            if self.isSafe(v, pos, path) == True: \n",
    "\n",
    "                path[pos] = v \n",
    "\n",
    "                if self.hamCycleUtil(path, pos+1) == True: \n",
    "                    return True\n",
    "\n",
    "                # Remove current vertex if it doesn't \n",
    "                # lead to a solution \n",
    "                path[pos] = -1\n",
    "\n",
    "        return False\n",
    "\n",
    "    def hamCycle(self): \n",
    "        path = [-1] * self.V \n",
    "\n",
    "        ''' Let us put vertex 0 as the first vertex \n",
    "            in the path. If there is a Hamiltonian Cycle, \n",
    "            then the path can be started from any point \n",
    "            of the cycle as the graph is undirected '''\n",
    "        path[0] = 0\n",
    "\n",
    "        if self.hamCycleUtil(path,1) == False: \n",
    "            ##print (\"Solution does not exist\\n\")\n",
    "            return False\n",
    "\n",
    "        ##self.printSolution(path) \n",
    "        return True\n",
    "\n",
    "    def printSolution(self, path): \n",
    "        print (\"Solution Exists: Following\",\n",
    "                 \"is one Hamiltonian Cycle\")\n",
    "        for vertex in path: \n",
    "           print (vertex )\n",
    "        "
   ]
  },
  {
   "cell_type": "code",
   "execution_count": 4,
   "id": "86e2e095",
   "metadata": {},
   "outputs": [],
   "source": [
    "##This is telling the computer where is the file\n",
    "fileName=\"C:/Users/ramon/Desktop/14_3_3.scd\""
   ]
  },
  {
   "cell_type": "code",
   "execution_count": 5,
   "id": "4852411a",
   "metadata": {},
   "outputs": [],
   "source": [
    "####This code reads the file with all the regular graphs\n",
    "\n",
    "def convert(filename, n, k=3):\n",
    "    num_edges = int(n*k/2.0)\n",
    "    f = open(filename, \"r\")\n",
    "    values = numpy.fromfile(f, dtype=numpy.uint8)\n",
    "    read_values = 0\n",
    "    counter=1;\n",
    "    code = []\n",
    "    while read_values < len(values):\n",
    "        # dekomp(file,code)\n",
    "        samebits = values.item(read_values)\n",
    "        \n",
    "        ###print('Graph ',counter,' :')\n",
    "        counter+=1\n",
    "        read_values += 1\n",
    "        readbits = num_edges - samebits\n",
    "        code = code[:int(samebits)] + list(values[int(read_values):int(read_values+readbits)])\n",
    "        read_values += readbits\n",
    "        \n",
    "        graph = numpy.zeros((n, n), dtype=numpy.uint8)\n",
    "        v = 0\n",
    "        count = [0] * n\n",
    "        for w in code:\n",
    "            w -= 1  # We are indexing from 0\n",
    "            while(count[v] == k):\n",
    "                v += 1\n",
    "            # edge (v, w)\n",
    "            graph.itemset((v, w), 1)\n",
    "            graph.itemset((w, v), 1)\n",
    "            count[v] += 1\n",
    "            count[w] += 1\n",
    "        yield graph\n",
    "        "
   ]
  },
  {
   "cell_type": "code",
   "execution_count": 12,
   "id": "e2ec0e09",
   "metadata": {
    "scrolled": true
   },
   "outputs": [
    {
     "name": "stdout",
     "output_type": "stream",
     "text": [
      "[[0 1 1 1 0 0 0 0 0 0 0 0 0 0]\n",
      " [1 0 1 0 1 0 0 0 0 0 0 0 0 0]\n",
      " [1 1 0 0 0 1 0 0 0 0 0 0 0 0]\n",
      " [1 0 0 0 0 0 1 1 0 0 0 0 0 0]\n",
      " [0 1 0 0 0 0 0 0 1 1 0 0 0 0]\n",
      " [0 0 1 0 0 0 0 0 0 0 1 1 0 0]\n",
      " [0 0 0 1 0 0 0 1 0 0 0 0 1 0]\n",
      " [0 0 0 1 0 0 1 0 0 0 0 0 0 1]\n",
      " [0 0 0 0 1 0 0 0 0 0 1 0 1 0]\n",
      " [0 0 0 0 1 0 0 0 0 0 0 1 0 1]\n",
      " [0 0 0 0 0 1 0 0 1 0 0 0 0 1]\n",
      " [0 0 0 0 0 1 0 0 0 1 0 0 1 0]\n",
      " [0 0 0 0 0 0 1 0 1 0 0 1 0 0]\n",
      " [0 0 0 0 0 0 0 1 0 1 1 0 0 0]]\n",
      "[-2.30277564 -2.30277564 -1.86080585 -1.86080585 -1.         -1.\n",
      " -0.25410169 -0.25410169  1.          1.30277564  1.30277564  2.11490754\n",
      "  2.11490754  3.        ]\n",
      "2.114907541476758\n"
     ]
    }
   ],
   "source": [
    "minimum=3\n",
    "minGraph=[]\n",
    "\n",
    "for g in convert(fileName,14,3):\n",
    "        \n",
    "        \n",
    "        g1 = Graph(14) \n",
    "        g1.graph =g;\n",
    "        if (g1.hamCycle())==False:\n",
    "            eigenvalues, eigenvectors = LA.eig(g)\n",
    "            eigenvalues.sort()\n",
    "            if minimum>eigenvalues[12]:\n",
    "                minGraph=g\n",
    "                minimum=eigenvalues[12]\n",
    "        \n",
    "        \n",
    "print(minGraph)\n",
    "eigenvalues, eigenvectors = LA.eig(minGraph)\n",
    "eigenvalues.sort()\n",
    "print(eigenvalues)\n",
    "print(minimum)   \n",
    "        "
   ]
  },
  {
   "cell_type": "code",
   "execution_count": null,
   "id": "5ae28c8b",
   "metadata": {},
   "outputs": [],
   "source": []
  }
 ],
 "metadata": {
  "kernelspec": {
   "display_name": "Python 3 (ipykernel)",
   "language": "python",
   "name": "python3"
  },
  "language_info": {
   "codemirror_mode": {
    "name": "ipython",
    "version": 3
   },
   "file_extension": ".py",
   "mimetype": "text/x-python",
   "name": "python",
   "nbconvert_exporter": "python",
   "pygments_lexer": "ipython3",
   "version": "3.11.3"
  }
 },
 "nbformat": 4,
 "nbformat_minor": 5
}
